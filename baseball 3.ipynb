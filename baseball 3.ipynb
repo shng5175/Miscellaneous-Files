{
 "cells": [
  {
   "cell_type": "code",
   "execution_count": 1,
   "metadata": {},
   "outputs": [],
   "source": [
    "# Data Visualization Project — Baseball\n",
    "# Zuyus Marissa & Wang Yitong\n",
    "\n",
    "\n",
    "# DO NOT LEAVE CODE THAT CAUSES ERRORS UNCOMMENTED IN THIS NOTEBOOK\n",
    "# DO NOT LEAVE NON-CODE THAT CAUSES ERRORS UNCOMMENTED IN THIS NOTEBOOK\n",
    "# also known as: make sure that your comments are comments!"
   ]
  },
  {
   "cell_type": "code",
   "execution_count": 2,
   "metadata": {},
   "outputs": [],
   "source": [
    "%matplotlib inline\n",
    "\n",
    "\n",
    "import matplotlib.pyplot as plt\n",
    "import statistics\n",
    "\n",
    "# You may add more imports as needed\n",
    "# this is the current imports we need for task 1\n",
    "\n",
    "# You must use this object to index into columns\n",
    "class BattingData:\n",
    "    year = 0\n",
    "    player_id = 1\n",
    "    first_name = 2\n",
    "    last_name = 3\n",
    "    team_name = 4\n",
    "    games = 5\n",
    "    at_bats = 6\n",
    "    runs = 7\n",
    "    hits = 8\n",
    "    doubles = 9\n",
    "    triples = 10\n",
    "    home_runs = 11\n",
    "    rbi = 12\n",
    "    walks = 13\n",
    "    hbp = 14\n",
    "    stolen_bases = 15\n",
    "    caught_stealing = 16\n",
    "    strike_outs = 17\n",
    "    sac_flies = 18\n",
    "    position = 19"
   ]
  },
  {
   "cell_type": "markdown",
   "metadata": {},
   "source": [
    "Baseball Data Visualization Project\n",
    "=============\n",
    "\n",
    "Add more cells as needed! Make sure that your notebook runs without errors before turning it in for each checkpoint!"
   ]
  },
  {
   "cell_type": "code",
   "execution_count": 3,
   "metadata": {},
   "outputs": [],
   "source": [
    "def read_data():\n",
    "    f = open(\"battingData1950Present.csv\", \"r\")\n",
    "    headers = f.readline().strip().split(\",\")\n",
    "    rows = []\n",
    "    for line in f:\n",
    "        line_list = line.strip().split(\",\")\n",
    "        for i in range(len(line_list)):\n",
    "            if line_list[i].isnumeric():\n",
    "                line_list[i] = int(line_list[i])\n",
    "            elif line_list[i] == \"\":\n",
    "                line_list[i] = 0\n",
    "        rows.append(line_list)\n",
    "    f.close()\n",
    "    return rows\n",
    "\n",
    "#We defined \"read_data\" and opened the file. We then split the each row at the comma, and made a list of lists."
   ]
  },
  {
   "cell_type": "code",
   "execution_count": 4,
   "metadata": {},
   "outputs": [],
   "source": [
    "def get_menu_choice(string):\n",
    "    main_list= read_data()\n",
    "    if string == 1:\n",
    "        first_graph(main_list, 1982)\n",
    "        second_graph(main_list, 1982)\n",
    "    elif string == 2:\n",
    "        third_graph(main_list, 1982, 100)\n",
    "        #fourth_graph(main_list, 1982, 100)\n",
    "    elif string == 3:\n",
    "        print (\"Graph team presence over time\")\n",
    "    elif string == 4:\n",
    "        print (\"Plot homeruns over time (percentiles)\")\n",
    "    elif string == 5:\n",
    "        print (\"to be filled in\")\n",
    "    elif string == 6:\n",
    "        print (\"to be filled in\")\n",
    "        \n",
    "# We defined the menu choice function and printed different strings for different values. Different "
   ]
  },
  {
   "cell_type": "code",
   "execution_count": 5,
   "metadata": {},
   "outputs": [],
   "source": [
    "def get_matching_rows(lst, col, target):\n",
    "    expected_list = []\n",
    "    for x in range(len(lst)):\n",
    "        for el in range(len(lst[x])):\n",
    "            if lst[x][el] == target:\n",
    "                expected_list.append(lst[x])\n",
    "    return expected_list"
   ]
  },
  {
   "cell_type": "code",
   "execution_count": 6,
   "metadata": {},
   "outputs": [],
   "source": [
    "def get_column_values(total, col):\n",
    "    expected_list = []\n",
    "    for row_list in total:\n",
    "        expected_list.append(row_list[col])\n",
    "    return (expected_list)"
   ]
  },
  {
   "cell_type": "code",
   "execution_count": 7,
   "metadata": {},
   "outputs": [],
   "source": [
    "def get_unique_values(lst):\n",
    "    return list(set(lst))"
   ]
  },
  {
   "cell_type": "code",
   "execution_count": 8,
   "metadata": {},
   "outputs": [],
   "source": [
    "def get_unique_column_values(lst, col):\n",
    "    col_v=get_column_values(lst,col)\n",
    "    unique= get_unique_values(col_v)\n",
    "    return unique"
   ]
  },
  {
   "cell_type": "code",
   "execution_count": 9,
   "metadata": {},
   "outputs": [],
   "source": [
    "#3a\n",
    "def first_graph(data, year):\n",
    "    filt = get_matching_rows(data, BattingData.year, year)\n",
    "    players = get_unique_column_values(filt, BattingData.player_id)\n",
    "    runs=[]\n",
    "    for player in players:\n",
    "        matching_rows = get_matching_rows(filt, BattingData.player_id, player)\n",
    "        runs_of_player = get_column_values(matching_rows, BattingData.runs)\n",
    "        sum_runs = sum(runs_of_player)\n",
    "        runs.append(sum_runs)\n",
    "    plt.hist(runs, bins= 100)\n",
    "    plt.xlabel(\"Number of total runs\")\n",
    "    plt.ylabel(\"Number of players\")\n",
    "    plt.title(\"Total runs vs. number of players having that many runs (\"+ str(year)+\")\")\n",
    "    plt.show()"
   ]
  },
  {
   "cell_type": "code",
   "execution_count": 10,
   "metadata": {},
   "outputs": [],
   "source": [
    "#3b\n",
    "def second_graph(data, year):\n",
    "    position = get_unique_column_values (data, BattingData.position)\n",
    "    for x in position:\n",
    "        filt = get_matching_rows(data, BattingData.year, year)\n",
    "        players = get_unique_column_values(filt, BattingData.player_id)\n",
    "        runs= []\n",
    "        for player in players:\n",
    "            matching_rows = get_matching_rows(filt, BattingData.player_id, player)\n",
    "            runs_of_player = get_column_values(matching_rows, BattingData.runs)\n",
    "            sum_runs = sum(runs_of_player)\n",
    "            runs.append(sum_runs)\n",
    "    plt.hist(runs, bins= 100)\n",
    "    plt.show()"
   ]
  },
  {
   "cell_type": "code",
   "execution_count": 11,
   "metadata": {},
   "outputs": [],
   "source": [
    "#3c\n",
    "def third_graph(data, year, cutoff):\n",
    "    filt = get_matching_rows(data, BattingData.year, year)\n",
    "    players = get_unique_column_values(filt, BattingData.player_id)\n",
    "    runs=[]\n",
    "    for player in players:\n",
    "        matching_rows = get_matching_rows(filt, BattingData.player_id, player)\n",
    "        runs_of_player = get_column_values(matching_rows, BattingData.runs)\n",
    "        if sum(runs_of_player) >= cutoff:\n",
    "            sum_runs = sum(runs_of_player)\n",
    "            runs.append(sum_runs)\n",
    "    plt.hist(runs, bins= 100)\n",
    "    plt.xlabel(\"Number of total runs\")\n",
    "    plt.ylabel(\"Number of players\")\n",
    "    plt.title(\"Total runs vs. number of players having that many runs (\"+ str(year)+\")\")\n",
    "    plt.show()"
   ]
  },
  {
   "cell_type": "code",
   "execution_count": 12,
   "metadata": {},
   "outputs": [],
   "source": [
    "#def fourth_graph(data, year, cutoff):\n",
    "# Sorry grader, Denver tried his best but it still doesn't work."
   ]
  },
  {
   "cell_type": "code",
   "execution_count": 13,
   "metadata": {},
   "outputs": [
    {
     "name": "stdout",
     "output_type": "stream",
     "text": [
      "Which choice would you like (number)?2\n"
     ]
    },
    {
     "data": {
      "image/png": "[encoded data removed]",
      "text/plain": [
       "<Figure size 432x288 with 1 Axes>"
      ]
     },
     "metadata": {},
     "output_type": "display_data"
    }
   ],
   "source": [
    "def main():\n",
    "    answer = input (\"Which choice would you like (number)?\")\n",
    "    get_menu_choice(int(answer))\n",
    "    \n",
    "    \n",
    "if __name__ == '__main__':\n",
    "    main()\n",
    "        "
   ]
  },
  {
   "cell_type": "code",
   "execution_count": null,
   "metadata": {},
   "outputs": [],
   "source": []
  }
 ],
 "metadata": {
  "kernelspec": {
   "display_name": "Python 3",
   "language": "python",
   "name": "python3"
  },
  "language_info": {
   "codemirror_mode": {
    "name": "ipython",
    "version": 3
   },
   "file_extension": ".py",
   "mimetype": "text/x-python",
   "name": "python",
   "nbconvert_exporter": "python",
   "pygments_lexer": "ipython3",
   "version": "3.6.5"
  }
 },
 "nbformat": 4,
 "nbformat_minor": 2
}
